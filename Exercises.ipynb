{
 "cells": [
  {
   "attachments": {},
   "cell_type": "markdown",
   "metadata": {},
   "source": [
    "## Regex Questions\n",
    "1) Matching words that end with ‘apple’"
   ]
  },
  {
   "cell_type": "code",
   "execution_count": 1,
   "metadata": {},
   "outputs": [
    {
     "name": "stdout",
     "output_type": "stream",
     "text": [
      "['apple', 'snapple', 'pineapple']\n"
     ]
    }
   ],
   "source": [
    "import re\n",
    "\n",
    "string = 'apple orange pear snapple pineapple durian'\n",
    "regex = r'\\w*apple'\n",
    "\n",
    "print(re.findall(regex, string))\n",
    "\n",
    "# ['apple', 'snapple', 'pineapple']"
   ]
  },
  {
   "attachments": {},
   "cell_type": "markdown",
   "metadata": {},
   "source": [
    "2) Matching words that contain ‘apple’"
   ]
  },
  {
   "cell_type": "code",
   "execution_count": null,
   "metadata": {},
   "outputs": [],
   "source": [
    "import re\n",
    "\n",
    "string = 'apple orange pear pineapple applepie durian'\n",
    "regex = 'TO DO'\n",
    "\n",
    "print(re.findall(regex, string))\n",
    "\n",
    "# ['apple', 'pineapple', 'applepie']"
   ]
  },
  {
   "attachments": {},
   "cell_type": "markdown",
   "metadata": {},
   "source": [
    "3) Matching Gmails"
   ]
  },
  {
   "cell_type": "code",
   "execution_count": 2,
   "metadata": {},
   "outputs": [
    {
     "name": "stdout",
     "output_type": "stream",
     "text": [
      "[]\n"
     ]
    }
   ],
   "source": [
    "import re\n",
    "\n",
    "string = 'apple@gmail.com orange@yahoo.com pear@gmail.com'\n",
    "regex = 'TO DO'\n",
    "\n",
    "print(re.findall(regex, string))\n",
    "\n",
    "# ['apple@gmail.com', 'pear@gmail.com']"
   ]
  },
  {
   "attachments": {},
   "cell_type": "markdown",
   "metadata": {},
   "source": [
    "4) Matching words that begin with either ‘a’, ‘b’ or ‘c’"
   ]
  },
  {
   "cell_type": "code",
   "execution_count": null,
   "metadata": {},
   "outputs": [],
   "source": [
    "import re\n",
    "\n",
    "string = 'apple orange pear cranberry berry pineapple'\n",
    "regex = 'TO DO'\n",
    "\n",
    "print(re.findall(regex, string))\n",
    "\n",
    "# ['apple', 'cranberry', 'berry']"
   ]
  },
  {
   "attachments": {},
   "cell_type": "markdown",
   "metadata": {},
   "source": [
    "5) Matching words that contain either ‘aa’, ‘bb’ or ‘cc’"
   ]
  },
  {
   "cell_type": "code",
   "execution_count": null,
   "metadata": {},
   "outputs": [],
   "source": [
    "import re\n",
    "\n",
    "string = 'aaa bab cbc bb ccc cccc baa'\n",
    "regex = 'TO DO'\n",
    "\n",
    "print(re.findall(regex, string))\n",
    "\n",
    "# ['aaa', 'bb', 'ccc', 'cccc', 'baa']"
   ]
  },
  {
   "attachments": {},
   "cell_type": "markdown",
   "metadata": {},
   "source": [
    "6) Matching phone numbers \\\n",
    "Assume phone numbers contain 8 numbers."
   ]
  },
  {
   "cell_type": "code",
   "execution_count": null,
   "metadata": {},
   "outputs": [],
   "source": [
    "import re\n",
    "\n",
    "string = 'my 3 phone numbers are 98765432, 80009000 and 71116111'\n",
    "regex = 'TO DO'\n",
    "\n",
    "print(re.findall(regex, string))\n",
    "\n",
    "# ['98765432', '80009000', '71116111']"
   ]
  },
  {
   "attachments": {},
   "cell_type": "markdown",
   "metadata": {},
   "source": [
    "7) Matching words that start with ‘a’ and end with ‘e’"
   ]
  },
  {
   "cell_type": "code",
   "execution_count": null,
   "metadata": {},
   "outputs": [],
   "source": [
    "import re\n",
    "\n",
    "string = 'apple orange pear age author'\n",
    "regex = 'TO DO'\n",
    "\n",
    "print(re.findall(regex, string))\n",
    "\n",
    "# ['apple', 'age']"
   ]
  },
  {
   "attachments": {},
   "cell_type": "markdown",
   "metadata": {},
   "source": [
    "8) Matching ‘SOMETHINGapple’ \\\n",
    "Where SOMETHING is a word containing at least 3 letters."
   ]
  },
  {
   "cell_type": "code",
   "execution_count": null,
   "metadata": {},
   "outputs": [],
   "source": [
    "import re\n",
    "\n",
    "string = 'apple snapple pineapple grapple fujiapple'\n",
    "regex = 'TO DO'\n",
    "\n",
    "print(re.findall(regex, string))\n",
    "\n",
    "# ['pineapple', 'fujiapple']"
   ]
  },
  {
   "attachments": {},
   "cell_type": "markdown",
   "metadata": {},
   "source": [
    "9) Matching 3 or more repetitions of either ‘a’, ‘b’, or ‘c’"
   ]
  },
  {
   "cell_type": "code",
   "execution_count": 3,
   "metadata": {},
   "outputs": [
    {
     "name": "stdout",
     "output_type": "stream",
     "text": [
      "[]\n"
     ]
    }
   ],
   "source": [
    "import re\n",
    "\n",
    "string = 'abc aa aaa bb bbb cccccc cab cda'\n",
    "regex = 'TO DO'\n",
    "\n",
    "print(re.findall(regex, string))\n",
    "\n",
    "# ['abc', 'aaa', 'bbb', 'cccccc', 'cab']"
   ]
  },
  {
   "attachments": {},
   "cell_type": "markdown",
   "metadata": {},
   "source": [
    "10) Matching numbers containing a digit 1"
   ]
  },
  {
   "cell_type": "code",
   "execution_count": null,
   "metadata": {},
   "outputs": [],
   "source": [
    "import re\n",
    "\n",
    "string = '10 11 240 521 323 666 1000 9999'\n",
    "regex = 'TO DO'\n",
    "\n",
    "print(re.findall(regex, string))\n",
    "\n",
    "# ['10', '11', '521', '1000']"
   ]
  },
  {
   "attachments": {},
   "cell_type": "markdown",
   "metadata": {},
   "source": [
    "11) Matching words inside opening and closing HTML tags \\\n",
    "In HTML, opening tags are <something>, and the corresponding tags are </something>."
   ]
  },
  {
   "cell_type": "code",
   "execution_count": null,
   "metadata": {},
   "outputs": [],
   "source": [
    "import re\n",
    "\n",
    "string = 'hello <i>my</i> name is <b>happy</b>'\n",
    "regex = 'TO DO'\n",
    "\n",
    "print(re.findall(regex, string))\n",
    "\n",
    "# ['my', 'happy']"
   ]
  },
  {
   "attachments": {},
   "cell_type": "markdown",
   "metadata": {},
   "source": [
    "12) Replacing multiple spaces with one space each"
   ]
  },
  {
   "cell_type": "code",
   "execution_count": null,
   "metadata": {},
   "outputs": [],
   "source": [
    "import re\n",
    "\n",
    "string = 'hello    my name      is    happy'\n",
    "regex = 'TO DO'\n",
    "\n",
    "print(re.sub(regex, ' ', string))\n",
    "\n",
    "# hello my name is happy"
   ]
  },
  {
   "attachments": {},
   "cell_type": "markdown",
   "metadata": {},
   "source": [
    "13) Replacing multiple (space/punctuation) combinations with one space \\\n",
    "Assume punctuations refer to '?.!'"
   ]
  },
  {
   "cell_type": "code",
   "execution_count": null,
   "metadata": {},
   "outputs": [],
   "source": [
    "import re\n",
    "\n",
    "string = 'hello!    my.name  ?    is  !  happy'\n",
    "regex = 'TO DO'\n",
    "\n",
    "print(re.sub(regex, ' ', string))\n",
    "\n",
    "# hello my name is happy"
   ]
  },
  {
   "attachments": {},
   "cell_type": "markdown",
   "metadata": {},
   "source": [
    "14) Removing non-alphanumeric/non-space characters from a string"
   ]
  },
  {
   "cell_type": "code",
   "execution_count": null,
   "metadata": {},
   "outputs": [],
   "source": [
    "import re\n",
    "\n",
    "string = 'hello!! my..... name,.,/? is@#$! %$#happy 123'\n",
    "regex = 'TO DO'\n",
    "\n",
    "print(re.sub(regex, '', string))\n",
    "\n",
    "# hello my name is happy 123"
   ]
  },
  {
   "attachments": {},
   "cell_type": "markdown",
   "metadata": {},
   "source": [
    "15) Matching words that are at least 4 letters long"
   ]
  },
  {
   "cell_type": "code",
   "execution_count": null,
   "metadata": {},
   "outputs": [],
   "source": [
    "import re\n",
    "\n",
    "string = 'hello my name is happy'\n",
    "regex = 'TO DO'\n",
    "\n",
    "print(re.findall(regex, string))\n",
    "\n",
    "# ['hello', 'name', 'happy']"
   ]
  },
  {
   "attachments": {},
   "cell_type": "markdown",
   "metadata": {},
   "source": [
    "16) Matching words that contain 2 or more vowels \\\n",
    "Vowels refer to 'aeiou'"
   ]
  },
  {
   "cell_type": "code",
   "execution_count": null,
   "metadata": {},
   "outputs": [],
   "source": [
    "import re\n",
    "\n",
    "string = 'apple boy cat donkey elephant fan'\n",
    "regex = 'TO DO'\n",
    "\n",
    "print(re.findall(regex, string))\n",
    "\n",
    "# ['apple', 'donkey', 'elephant']"
   ]
  },
  {
   "attachments": {},
   "cell_type": "markdown",
   "metadata": {},
   "source": [
    "17) Matching words that contain 3 or more consonants \\\n",
    "Consonants refer to non-vowels — any letter other than 'aeiou'"
   ]
  },
  {
   "cell_type": "code",
   "execution_count": null,
   "metadata": {},
   "outputs": [],
   "source": [
    "import re\n",
    "\n",
    "string = 'apple boy cat donkey elephant fan'\n",
    "regex = 'TO DO'\n",
    "\n",
    "print(re.findall(regex, string))\n",
    "\n",
    "# ['apple', 'donkey', 'elephant']"
   ]
  },
  {
   "attachments": {},
   "cell_type": "markdown",
   "metadata": {},
   "source": [
    "18) Cleaning HTML text — removing all HTML opening/closing tags from a string"
   ]
  },
  {
   "cell_type": "code",
   "execution_count": null,
   "metadata": {},
   "outputs": [],
   "source": [
    "import re\n",
    "\n",
    "string = '<p>hello <strong>my</strong> name is <i>happy</i></p>'\n",
    "regex = 'TO DO'\n",
    "replacement = 'TO DO'\n",
    "\n",
    "print(re.sub(regex, replacement, string))\n",
    "\n",
    "# hello my name is happy"
   ]
  },
  {
   "attachments": {},
   "cell_type": "markdown",
   "metadata": {},
   "source": [
    "19) Breaking up PascalCase strings"
   ]
  },
  {
   "cell_type": "code",
   "execution_count": null,
   "metadata": {},
   "outputs": [],
   "source": [
    "import re\n",
    "\n",
    "string = 'MyNameIsHappy'\n",
    "regex = 'TO DO'\n",
    "replacement = 'TO DO'\n",
    "\n",
    "print(re.sub(regex, replacement, string))\n",
    "\n",
    "# My Name Is Happy"
   ]
  },
  {
   "attachments": {},
   "cell_type": "markdown",
   "metadata": {},
   "source": [
    "20) Matching words with 3 or more consecutive vowels"
   ]
  },
  {
   "cell_type": "code",
   "execution_count": null,
   "metadata": {},
   "outputs": [],
   "source": [
    "import re\n",
    "\n",
    "string = 'apple pineapple acquaintance gooey meow'\n",
    "regex = 'TO DO'\n",
    "\n",
    "print(re.findall(regex, string))\n",
    "\n",
    "# ['acquaintance', 'gooey']\n"
   ]
  },
  {
   "attachments": {},
   "cell_type": "markdown",
   "metadata": {},
   "source": [
    "21) Replacing Smileys"
   ]
  },
  {
   "cell_type": "code",
   "execution_count": null,
   "metadata": {},
   "outputs": [],
   "source": [
    "import re\n",
    "\n",
    "string = 'Hello ::smile my name is happy ::laugh'\n",
    "regex = 'TO DO'\n",
    "replacement = 'TO DO'\n",
    "\n",
    "print(re.sub(regex, replacement ,string))\n",
    "\n",
    "# Hello <icon>smile</icon> my name is happy <icon>laugh</icon>"
   ]
  },
  {
   "attachments": {},
   "cell_type": "markdown",
   "metadata": {},
   "source": [
    "22) Switching HTML opening & closing tags"
   ]
  },
  {
   "cell_type": "code",
   "execution_count": null,
   "metadata": {},
   "outputs": [],
   "source": [
    "import re\n",
    "\n",
    "string = '<i>hello</i> my name is <b>happy</b>'\n",
    "regex = 'TO DO'\n",
    "replacement = 'TO DO'\n",
    "\n",
    "print(re.sub(regex, replacement, string))\n",
    "\n",
    "# </i>hello<i> my name is </b>happy<b>"
   ]
  },
  {
   "attachments": {},
   "cell_type": "markdown",
   "metadata": {},
   "source": [
    "23) Matching words with at least 2 letters in a row"
   ]
  },
  {
   "cell_type": "code",
   "execution_count": null,
   "metadata": {},
   "outputs": [],
   "source": [
    "import re\n",
    "\n",
    "string = 'apple orange pear strawberry'\n",
    "regex = 'TO DO'\n",
    "\n",
    "print(re.findall(regex, string))\n",
    "\n",
    "# [('apple', 'p'), ('strawberry', 'r')]"
   ]
  },
  {
   "attachments": {},
   "cell_type": "markdown",
   "metadata": {},
   "source": [
    "24) Matching words with at least 1 repeat letter"
   ]
  },
  {
   "cell_type": "code",
   "execution_count": null,
   "metadata": {},
   "outputs": [],
   "source": [
    "import re\n",
    "\n",
    "string = 'apple orange pear banana'\n",
    "regex = 'TO DO'\n",
    "\n",
    "print(re.findall(regex, string))\n",
    "\n",
    "# [('apple', 'p'), ('banana', 'a')]"
   ]
  },
  {
   "attachments": {},
   "cell_type": "markdown",
   "metadata": {},
   "source": [
    "25) Matching words containing a XYXY pattern"
   ]
  },
  {
   "cell_type": "code",
   "execution_count": null,
   "metadata": {},
   "outputs": [],
   "source": [
    "import re\n",
    "\n",
    "string = 'apple orange banana lalala hahaha haheha'\n",
    "regex = 'TO DO'\n",
    "\n",
    "print(re.findall(regex, string))\n",
    "\n",
    "# [('banana', 'n', 'a'), ('lalala', 'l', 'a'), ('hahaha', 'h', 'a')]"
   ]
  },
  {
   "attachments": {},
   "cell_type": "markdown",
   "metadata": {},
   "source": [
    "26) PascalCase to snake_case"
   ]
  },
  {
   "cell_type": "code",
   "execution_count": null,
   "metadata": {},
   "outputs": [],
   "source": [
    "import re\n",
    "\n",
    "string = 'MyNameIsHappy'\n",
    "regex = 'TO DO'\n",
    "replacement = lambda match: #TO DO\n",
    "\n",
    "print(re.sub(regex, replacement, string))\n",
    "\n",
    "# my_name_is_happy"
   ]
  },
  {
   "attachments": {},
   "cell_type": "markdown",
   "metadata": {},
   "source": [
    "27) PascalCase to YELLING_SNAKE_CASE"
   ]
  },
  {
   "cell_type": "code",
   "execution_count": null,
   "metadata": {},
   "outputs": [],
   "source": [
    "import re\n",
    "\n",
    "string = 'MyNameIsHappy'\n",
    "regex = 'TO DO'\n",
    "replacement = lambda match: #TO DO\n",
    "\n",
    "print(re.sub(regex, replacement, string))\n",
    "\n",
    "# MY_NAME_IS_HAPPY"
   ]
  },
  {
   "attachments": {},
   "cell_type": "markdown",
   "metadata": {},
   "source": [
    "28) Reversing words inside HTML tags"
   ]
  },
  {
   "cell_type": "code",
   "execution_count": null,
   "metadata": {},
   "outputs": [],
   "source": [
    "import re\n",
    "\n",
    "string = '<i>my</i> name is <b>happy</b>'\n",
    "regex = 'TO DO'\n",
    "replacement = lambda match: #TO DO\n",
    "\n",
    "print(re.sub(regex, replacement, string))\n",
    "\n",
    "# <i>ym</i> name is <b>yppah</b>"
   ]
  },
  {
   "attachments": {},
   "cell_type": "markdown",
   "metadata": {},
   "source": [
    "29) Extracting keys from a json string"
   ]
  },
  {
   "cell_type": "code",
   "execution_count": null,
   "metadata": {},
   "outputs": [],
   "source": [
    "import re \n",
    "\n",
    "string = '{\"key1\": \"val1\", \"key2\": {\"aaa\": \"val3\", \"apple\": []}}'\n",
    "regex = 'TO DO'\n",
    "\n",
    "print(re.findall(regex, string))\n",
    "\n",
    "# ['key1', 'key2', 'aaa', 'apple']"
   ]
  },
  {
   "attachments": {},
   "cell_type": "markdown",
   "metadata": {},
   "source": [
    "30) Matching words containing at least 2 repeat characters"
   ]
  },
  {
   "cell_type": "code",
   "execution_count": 4,
   "metadata": {},
   "outputs": [
    {
     "ename": "IndentationError",
     "evalue": "unexpected indent (62311793.py, line 9)",
     "output_type": "error",
     "traceback": [
      "\u001b[1;36m  Cell \u001b[1;32mIn [4], line 9\u001b[1;36m\u001b[0m\n\u001b[1;33m    ('haha', 'h', 'a', 'h', 'a'),\u001b[0m\n\u001b[1;37m    ^\u001b[0m\n\u001b[1;31mIndentationError\u001b[0m\u001b[1;31m:\u001b[0m unexpected indent\n"
     ]
    }
   ],
   "source": [
    "import re\n",
    "\n",
    "string = 'apple orange pear banana haha hihu poop'\n",
    "regex = 'TO DO'\n",
    "\n",
    "print(re.findall(regex, string))\n",
    "\n",
    "# [('banana', 'n', 'a', 'n', 'a'), \n",
    "   ('haha', 'h', 'a', 'h', 'a'), \n",
    "   ('poop', 'p', 'o', 'o', 'p')]"
   ]
  },
  {
   "cell_type": "markdown",
   "metadata": {},
   "source": []
  },
  {
   "cell_type": "markdown",
   "metadata": {},
   "source": []
  },
  {
   "cell_type": "markdown",
   "metadata": {},
   "source": []
  }
 ],
 "metadata": {
  "kernelspec": {
   "display_name": "Python 3",
   "language": "python",
   "name": "python3"
  },
  "language_info": {
   "codemirror_mode": {
    "name": "ipython",
    "version": 3
   },
   "file_extension": ".py",
   "mimetype": "text/x-python",
   "name": "python",
   "nbconvert_exporter": "python",
   "pygments_lexer": "ipython3",
   "version": "3.10.7"
  },
  "orig_nbformat": 4,
  "vscode": {
   "interpreter": {
    "hash": "62d7c101cd41aeff87a25534bb33d35b2defd3e371ba2ce0dd0c5759cdc2ae9e"
   }
  }
 },
 "nbformat": 4,
 "nbformat_minor": 2
}
